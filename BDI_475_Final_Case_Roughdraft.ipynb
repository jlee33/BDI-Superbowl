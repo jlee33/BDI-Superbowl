{
  "nbformat": 4,
  "nbformat_minor": 0,
  "metadata": {
    "colab": {
      "name": "BDI 475 Final Case",
      "provenance": [],
      "authorship_tag": "ABX9TyNA5T0CkKVz8PyPT0y7YKR2",
      "include_colab_link": true
    },
    "kernelspec": {
      "name": "python3",
      "display_name": "Python 3"
    },
    "language_info": {
      "name": "python"
    }
  },
  "cells": [
    {
      "cell_type": "markdown",
      "metadata": {
        "id": "view-in-github",
        "colab_type": "text"
      },
      "source": [
        "<a href=\"https://colab.research.google.com/github/jlee33/BDI-Superbowl/blob/main/BDI_475_Final_Case_Roughdraft.ipynb\" target=\"_parent\"><img src=\"https://colab.research.google.com/assets/colab-badge.svg\" alt=\"Open In Colab\"/></a>"
      ]
    },
    {
      "cell_type": "markdown",
      "metadata": {
        "id": "23-rX_SBxsZS"
      },
      "source": [
        "I have picked this dataset to anaylze primarily because of my interest in football. I have been watching football as long as I can remember and I think it will be interesting to answer some questions I have had through this data. Additionally, sports data is what really got me interested in overall data analytics. "
      ]
    },
    {
      "cell_type": "markdown",
      "metadata": {
        "id": "m7PvYE54x_7F"
      },
      "source": [
        "Questions:\n",
        "What is the average number of points scored by Superbowl winners?\n",
        "What is the average number of points scored by Superbowl losers?\n",
        "Has a team ever won a Superbowl in their home stadium?\n",
        "How many teams have played a Superbowl in their home stadium?\n",
        "How many times has each team won a Superbowl?\n",
        "How many teams have never won a Superbowl?\n",
        "How many teams have never been to the Superbowl?\n",
        "How many times has each Superbowl MVP won the award?\n",
        "How many times has each position (QB, RB, etc.) won Superbowl MVP?\n",
        "Has a player ever won the Superbowl MVP for multiple teams?\n",
        "How many times has the Superbowl been hosted at each stadium?\n",
        "What is the longest gap in years between Superbowl wins for a team?\n",
        "What is the longest gap in years between Superbowl MVP awards for players?"
      ]
    },
    {
      "cell_type": "code",
      "metadata": {
        "id": "gXQLtYcyzd6K"
      },
      "source": [
        "import numpy as np\n",
        "import pandas as pd\n",
        "import plotly.express as px\n",
        "import plotly.graph_objects as go"
      ],
      "execution_count": 1,
      "outputs": []
    },
    {
      "cell_type": "code",
      "metadata": {
        "id": "ADaMsdMn0FYn"
      },
      "source": [
        "df_superbowl = pd.read_csv('https://github.com/jlee33/BDI-Superbowl/raw/main/superbowl%20dataset%20bdi%20475.csv')"
      ],
      "execution_count": 2,
      "outputs": []
    },
    {
      "cell_type": "code",
      "metadata": {
        "colab": {
          "base_uri": "https://localhost:8080/"
        },
        "id": "x-J0xnOP0Jsz",
        "outputId": "3324f797-fcaf-43c4-b945-aff4d99e1d71"
      },
      "source": [
        "df_superbowl.shape"
      ],
      "execution_count": 3,
      "outputs": [
        {
          "output_type": "execute_result",
          "data": {
            "text/plain": [
              "(54, 10)"
            ]
          },
          "metadata": {
            "tags": []
          },
          "execution_count": 3
        }
      ]
    },
    {
      "cell_type": "code",
      "metadata": {
        "colab": {
          "base_uri": "https://localhost:8080/"
        },
        "id": "FDby1ctMA7gw",
        "outputId": "3c142830-b1bb-4400-9d3c-39a8f160b09e"
      },
      "source": [
        "df_superbowl.info"
      ],
      "execution_count": 4,
      "outputs": [
        {
          "output_type": "execute_result",
          "data": {
            "text/plain": [
              "<bound method DataFrame.info of            Date            SB  ...             City       State\n",
              "0    Feb 2 2020      LIV (54)  ...    Miami Gardens     Florida\n",
              "1    Feb 3 2019     LIII (53)  ...          Atlanta     Georgia\n",
              "2    Feb 4 2018      LII (52)  ...      Minneapolis   Minnesota\n",
              "3    Feb 5 2017       LI (51)  ...          Houston       Texas\n",
              "4    Feb 7 2016            50  ...      Santa Clara  California\n",
              "5    Feb 1 2015     XLIX (49)  ...         Glendale     Arizona\n",
              "6    Feb 2 2014   XLVIII (48)  ...  East Rutherford  New Jersey\n",
              "7    Feb 3 2013    XLVII (47)  ...      New Orleans   Louisiana\n",
              "8    Feb 5 2012     XLVI (46)  ...     Indianapolis     Indiana\n",
              "9    Feb 6 2011      XLV (45)  ...        Arlington       Texas\n",
              "10   Feb 7 2010     XLIV (44)  ...    Miami Gardens     Florida\n",
              "11   Feb 1 2009    XLIII (43)  ...            Tampa     Florida\n",
              "12   Feb 3 2008     XLII (42)  ...         Glendale     Arizona\n",
              "13   Feb 4 2007      XLI (41)  ...    Miami Gardens     Florida\n",
              "14   Feb 5 2006       XL (40)  ...          Detroit    Michigan\n",
              "15   Feb 6 2005    XXXIX (39)  ...     Jacksonville     Florida\n",
              "16   Feb 1 2004  XXXVIII (38)  ...          Houston       Texas\n",
              "17  Jan 26 2003   XXXVII (37)  ...        San Diego  California\n",
              "18   Feb 3 2002    XXXVI (36)  ...      New Orleans   Louisiana\n",
              "19  Jan 28 2001     XXXV (35)  ...            Tampa     Florida\n",
              "20  Jan 30 2000    XXXIV (34)  ...          Atlanta     Georgia\n",
              "21  Jan 31 1999   XXXIII (33)  ...    Miami Gardens     Florida\n",
              "22  Jan 25 1998    XXXII (32)  ...        San Diego  California\n",
              "23  Jan 26 1997     XXXI (31)  ...      New Orleans   Louisiana\n",
              "24  Jan 28 1996      XXX (30)  ...            Tempe     Arizona\n",
              "25  Jan 29 1995     XXIX (29)  ...    Miami Gardens     Florida\n",
              "26  Jan 30 1994   XXVIII (28)  ...          Atlanta     Georgia\n",
              "27  Jan 31 1993    XXVII (27)  ...         Pasadena  California\n",
              "28  Jan 26 1992     XXVI (26)  ...      Minneapolis   Minnesota\n",
              "29  Jan 27 1991      XXV (25)  ...            Tampa     Florida\n",
              "30  Jan 28 1990     XXIV (24)  ...      New Orleans   Louisiana\n",
              "31  Jan 22 1989    XXIII (23)  ...    Miami Gardens     Florida\n",
              "32  Jan 31 1988     XXII (22)  ...        San Diego  California\n",
              "33  Jan 25 1987      XXI (21)  ...         Pasadena  California\n",
              "34  Jan 26 1986       XX (20)  ...      New Orleans   Louisiana\n",
              "35  Jan 20 1985      XIX (19)  ...        Palo Alto  California\n",
              "36  Jan 22 1984    XVIII (18)  ...            Tampa     Florida\n",
              "37  Jan 30 1983     XVII (17)  ...         Pasadena  California\n",
              "38  Jan 24 1982      XVI (16)  ...          Pontiac    Michigan\n",
              "39  Jan 25 1981       XV (15)  ...      New Orleans   Louisiana\n",
              "40  Jan 20 1980      XIV (14)  ...         Pasadena  California\n",
              "41  Jan 21 1979     XIII (13)  ...            Miami     Florida\n",
              "42  Jan 15 1978      XII (12)  ...      New Orleans   Louisiana\n",
              "43   Jan 9 1977       XI (11)  ...         Pasadena  California\n",
              "44  Jan 18 1976        X (10)  ...            Miami     Florida\n",
              "45  Jan 12 1975        IX (9)  ...      New Orleans   Louisiana\n",
              "46  Jan 13 1974      VIII (8)  ...          Houston       Texas\n",
              "47  Jan 14 1973       VII (7)  ...      Los Angeles  California\n",
              "48  Jan 16 1972        VI (6)  ...      New Orleans   Louisiana\n",
              "49  Jan 17 1971         V (5)  ...            Miami     Florida\n",
              "50  Jan 11 1970        IV (4)  ...      New Orleans   Louisiana\n",
              "51  Jan 12 1969       III (3)  ...            Miami     Florida\n",
              "52  Jan 14 1968        II (2)  ...            Miami     Florida\n",
              "53  Jan 15 1967         I (1)  ...      Los Angeles  California\n",
              "\n",
              "[54 rows x 10 columns]>"
            ]
          },
          "metadata": {
            "tags": []
          },
          "execution_count": 4
        }
      ]
    },
    {
      "cell_type": "code",
      "metadata": {
        "colab": {
          "base_uri": "https://localhost:8080/"
        },
        "id": "hmXNjt1_CvzY",
        "outputId": "82770af7-0a27-4d7d-d0e5-ba27704c81f4"
      },
      "source": [
        "pd.to_datetime"
      ],
      "execution_count": 5,
      "outputs": [
        {
          "output_type": "execute_result",
          "data": {
            "text/plain": [
              "<function pandas.core.tools.datetimes.to_datetime>"
            ]
          },
          "metadata": {
            "tags": []
          },
          "execution_count": 5
        }
      ]
    },
    {
      "cell_type": "code",
      "metadata": {
        "colab": {
          "base_uri": "https://localhost:8080/",
          "height": 306
        },
        "id": "jWOvrI_p6R71",
        "outputId": "93ad42d7-fcfb-4cc4-9f48-de28227660b2"
      },
      "source": [
        "df_superbowl.head(5)"
      ],
      "execution_count": 6,
      "outputs": [
        {
          "output_type": "execute_result",
          "data": {
            "text/html": [
              "<div>\n",
              "<style scoped>\n",
              "    .dataframe tbody tr th:only-of-type {\n",
              "        vertical-align: middle;\n",
              "    }\n",
              "\n",
              "    .dataframe tbody tr th {\n",
              "        vertical-align: top;\n",
              "    }\n",
              "\n",
              "    .dataframe thead th {\n",
              "        text-align: right;\n",
              "    }\n",
              "</style>\n",
              "<table border=\"1\" class=\"dataframe\">\n",
              "  <thead>\n",
              "    <tr style=\"text-align: right;\">\n",
              "      <th></th>\n",
              "      <th>Date</th>\n",
              "      <th>SB</th>\n",
              "      <th>Winner</th>\n",
              "      <th>Winner Pts</th>\n",
              "      <th>Loser</th>\n",
              "      <th>Loser Pts</th>\n",
              "      <th>MVP</th>\n",
              "      <th>Stadium</th>\n",
              "      <th>City</th>\n",
              "      <th>State</th>\n",
              "    </tr>\n",
              "  </thead>\n",
              "  <tbody>\n",
              "    <tr>\n",
              "      <th>0</th>\n",
              "      <td>Feb 2 2020</td>\n",
              "      <td>LIV (54)</td>\n",
              "      <td>Kansas City Chiefs</td>\n",
              "      <td>31</td>\n",
              "      <td>San Francisco 49ers</td>\n",
              "      <td>20</td>\n",
              "      <td>Patrick Mahomes</td>\n",
              "      <td>Hard Rock Stadium</td>\n",
              "      <td>Miami Gardens</td>\n",
              "      <td>Florida</td>\n",
              "    </tr>\n",
              "    <tr>\n",
              "      <th>1</th>\n",
              "      <td>Feb 3 2019</td>\n",
              "      <td>LIII (53)</td>\n",
              "      <td>New England Patriots</td>\n",
              "      <td>13</td>\n",
              "      <td>Los Angeles Rams</td>\n",
              "      <td>3</td>\n",
              "      <td>Julian Edelman</td>\n",
              "      <td>Mercedes-Benz Stadium</td>\n",
              "      <td>Atlanta</td>\n",
              "      <td>Georgia</td>\n",
              "    </tr>\n",
              "    <tr>\n",
              "      <th>2</th>\n",
              "      <td>Feb 4 2018</td>\n",
              "      <td>LII (52)</td>\n",
              "      <td>Philadelphia Eagles</td>\n",
              "      <td>41</td>\n",
              "      <td>New England Patriots</td>\n",
              "      <td>33</td>\n",
              "      <td>Nick Foles</td>\n",
              "      <td>U.S. Bank Stadium</td>\n",
              "      <td>Minneapolis</td>\n",
              "      <td>Minnesota</td>\n",
              "    </tr>\n",
              "    <tr>\n",
              "      <th>3</th>\n",
              "      <td>Feb 5 2017</td>\n",
              "      <td>LI (51)</td>\n",
              "      <td>New England Patriots</td>\n",
              "      <td>34</td>\n",
              "      <td>Atlanta Falcons</td>\n",
              "      <td>28</td>\n",
              "      <td>Tom Brady</td>\n",
              "      <td>NRG Stadium</td>\n",
              "      <td>Houston</td>\n",
              "      <td>Texas</td>\n",
              "    </tr>\n",
              "    <tr>\n",
              "      <th>4</th>\n",
              "      <td>Feb 7 2016</td>\n",
              "      <td>50</td>\n",
              "      <td>Denver Broncos</td>\n",
              "      <td>24</td>\n",
              "      <td>Carolina Panthers</td>\n",
              "      <td>10</td>\n",
              "      <td>Von Miller</td>\n",
              "      <td>Levi's Stadium</td>\n",
              "      <td>Santa Clara</td>\n",
              "      <td>California</td>\n",
              "    </tr>\n",
              "  </tbody>\n",
              "</table>\n",
              "</div>"
            ],
            "text/plain": [
              "         Date         SB  ...           City       State\n",
              "0  Feb 2 2020   LIV (54)  ...  Miami Gardens     Florida\n",
              "1  Feb 3 2019  LIII (53)  ...        Atlanta     Georgia\n",
              "2  Feb 4 2018   LII (52)  ...    Minneapolis   Minnesota\n",
              "3  Feb 5 2017    LI (51)  ...        Houston       Texas\n",
              "4  Feb 7 2016         50  ...    Santa Clara  California\n",
              "\n",
              "[5 rows x 10 columns]"
            ]
          },
          "metadata": {
            "tags": []
          },
          "execution_count": 6
        }
      ]
    },
    {
      "cell_type": "code",
      "metadata": {
        "colab": {
          "base_uri": "https://localhost:8080/",
          "height": 204
        },
        "id": "T4QsrfLs-H6g",
        "outputId": "bc86e0b0-6e19-44c0-8d5d-222580663760"
      },
      "source": [
        "df_superbowl.tail(5)"
      ],
      "execution_count": 7,
      "outputs": [
        {
          "output_type": "execute_result",
          "data": {
            "text/html": [
              "<div>\n",
              "<style scoped>\n",
              "    .dataframe tbody tr th:only-of-type {\n",
              "        vertical-align: middle;\n",
              "    }\n",
              "\n",
              "    .dataframe tbody tr th {\n",
              "        vertical-align: top;\n",
              "    }\n",
              "\n",
              "    .dataframe thead th {\n",
              "        text-align: right;\n",
              "    }\n",
              "</style>\n",
              "<table border=\"1\" class=\"dataframe\">\n",
              "  <thead>\n",
              "    <tr style=\"text-align: right;\">\n",
              "      <th></th>\n",
              "      <th>Date</th>\n",
              "      <th>SB</th>\n",
              "      <th>Winner</th>\n",
              "      <th>Winner Pts</th>\n",
              "      <th>Loser</th>\n",
              "      <th>Loser Pts</th>\n",
              "      <th>MVP</th>\n",
              "      <th>Stadium</th>\n",
              "      <th>City</th>\n",
              "      <th>State</th>\n",
              "    </tr>\n",
              "  </thead>\n",
              "  <tbody>\n",
              "    <tr>\n",
              "      <th>49</th>\n",
              "      <td>Jan 17 1971</td>\n",
              "      <td>V (5)</td>\n",
              "      <td>Baltimore Colts</td>\n",
              "      <td>16</td>\n",
              "      <td>Dallas Cowboys</td>\n",
              "      <td>13</td>\n",
              "      <td>Chuck Howley</td>\n",
              "      <td>Orange Bowl</td>\n",
              "      <td>Miami</td>\n",
              "      <td>Florida</td>\n",
              "    </tr>\n",
              "    <tr>\n",
              "      <th>50</th>\n",
              "      <td>Jan 11 1970</td>\n",
              "      <td>IV (4)</td>\n",
              "      <td>Kansas City Chiefs</td>\n",
              "      <td>23</td>\n",
              "      <td>Minnesota Vikings</td>\n",
              "      <td>7</td>\n",
              "      <td>Len Dawson+</td>\n",
              "      <td>Tulane Stadium</td>\n",
              "      <td>New Orleans</td>\n",
              "      <td>Louisiana</td>\n",
              "    </tr>\n",
              "    <tr>\n",
              "      <th>51</th>\n",
              "      <td>Jan 12 1969</td>\n",
              "      <td>III (3)</td>\n",
              "      <td>New York Jets</td>\n",
              "      <td>16</td>\n",
              "      <td>Baltimore Colts</td>\n",
              "      <td>7</td>\n",
              "      <td>Joe Namath+</td>\n",
              "      <td>Orange Bowl</td>\n",
              "      <td>Miami</td>\n",
              "      <td>Florida</td>\n",
              "    </tr>\n",
              "    <tr>\n",
              "      <th>52</th>\n",
              "      <td>Jan 14 1968</td>\n",
              "      <td>II (2)</td>\n",
              "      <td>Green Bay Packers</td>\n",
              "      <td>33</td>\n",
              "      <td>Oakland Raiders</td>\n",
              "      <td>14</td>\n",
              "      <td>Bart Starr+</td>\n",
              "      <td>Orange Bowl</td>\n",
              "      <td>Miami</td>\n",
              "      <td>Florida</td>\n",
              "    </tr>\n",
              "    <tr>\n",
              "      <th>53</th>\n",
              "      <td>Jan 15 1967</td>\n",
              "      <td>I (1)</td>\n",
              "      <td>Green Bay Packers</td>\n",
              "      <td>35</td>\n",
              "      <td>Kansas City Chiefs</td>\n",
              "      <td>10</td>\n",
              "      <td>Bart Starr+</td>\n",
              "      <td>Memorial Coliseum</td>\n",
              "      <td>Los Angeles</td>\n",
              "      <td>California</td>\n",
              "    </tr>\n",
              "  </tbody>\n",
              "</table>\n",
              "</div>"
            ],
            "text/plain": [
              "           Date       SB  ...         City       State\n",
              "49  Jan 17 1971    V (5)  ...        Miami     Florida\n",
              "50  Jan 11 1970   IV (4)  ...  New Orleans   Louisiana\n",
              "51  Jan 12 1969  III (3)  ...        Miami     Florida\n",
              "52  Jan 14 1968   II (2)  ...        Miami     Florida\n",
              "53  Jan 15 1967    I (1)  ...  Los Angeles  California\n",
              "\n",
              "[5 rows x 10 columns]"
            ]
          },
          "metadata": {
            "tags": []
          },
          "execution_count": 7
        }
      ]
    },
    {
      "cell_type": "code",
      "metadata": {
        "colab": {
          "base_uri": "https://localhost:8080/",
          "height": 306
        },
        "id": "vNfopuQc-IOs",
        "outputId": "0e2543b4-4fa3-4991-a116-a503053c0236"
      },
      "source": [
        "df_superbowl.sample(5)"
      ],
      "execution_count": 8,
      "outputs": [
        {
          "output_type": "execute_result",
          "data": {
            "text/html": [
              "<div>\n",
              "<style scoped>\n",
              "    .dataframe tbody tr th:only-of-type {\n",
              "        vertical-align: middle;\n",
              "    }\n",
              "\n",
              "    .dataframe tbody tr th {\n",
              "        vertical-align: top;\n",
              "    }\n",
              "\n",
              "    .dataframe thead th {\n",
              "        text-align: right;\n",
              "    }\n",
              "</style>\n",
              "<table border=\"1\" class=\"dataframe\">\n",
              "  <thead>\n",
              "    <tr style=\"text-align: right;\">\n",
              "      <th></th>\n",
              "      <th>Date</th>\n",
              "      <th>SB</th>\n",
              "      <th>Winner</th>\n",
              "      <th>Winner Pts</th>\n",
              "      <th>Loser</th>\n",
              "      <th>Loser Pts</th>\n",
              "      <th>MVP</th>\n",
              "      <th>Stadium</th>\n",
              "      <th>City</th>\n",
              "      <th>State</th>\n",
              "    </tr>\n",
              "  </thead>\n",
              "  <tbody>\n",
              "    <tr>\n",
              "      <th>3</th>\n",
              "      <td>Feb 5 2017</td>\n",
              "      <td>LI (51)</td>\n",
              "      <td>New England Patriots</td>\n",
              "      <td>34</td>\n",
              "      <td>Atlanta Falcons</td>\n",
              "      <td>28</td>\n",
              "      <td>Tom Brady</td>\n",
              "      <td>NRG Stadium</td>\n",
              "      <td>Houston</td>\n",
              "      <td>Texas</td>\n",
              "    </tr>\n",
              "    <tr>\n",
              "      <th>8</th>\n",
              "      <td>Feb 5 2012</td>\n",
              "      <td>XLVI (46)</td>\n",
              "      <td>New York Giants</td>\n",
              "      <td>21</td>\n",
              "      <td>New England Patriots</td>\n",
              "      <td>17</td>\n",
              "      <td>Eli Manning</td>\n",
              "      <td>Lucas Oil Stadium</td>\n",
              "      <td>Indianapolis</td>\n",
              "      <td>Indiana</td>\n",
              "    </tr>\n",
              "    <tr>\n",
              "      <th>41</th>\n",
              "      <td>Jan 21 1979</td>\n",
              "      <td>XIII (13)</td>\n",
              "      <td>Pittsburgh Steelers</td>\n",
              "      <td>35</td>\n",
              "      <td>Dallas Cowboys</td>\n",
              "      <td>31</td>\n",
              "      <td>Terry Bradshaw+</td>\n",
              "      <td>Orange Bowl</td>\n",
              "      <td>Miami</td>\n",
              "      <td>Florida</td>\n",
              "    </tr>\n",
              "    <tr>\n",
              "      <th>16</th>\n",
              "      <td>Feb 1 2004</td>\n",
              "      <td>XXXVIII (38)</td>\n",
              "      <td>New England Patriots</td>\n",
              "      <td>32</td>\n",
              "      <td>Carolina Panthers</td>\n",
              "      <td>29</td>\n",
              "      <td>Tom Brady</td>\n",
              "      <td>Reliant Stadium</td>\n",
              "      <td>Houston</td>\n",
              "      <td>Texas</td>\n",
              "    </tr>\n",
              "    <tr>\n",
              "      <th>5</th>\n",
              "      <td>Feb 1 2015</td>\n",
              "      <td>XLIX (49)</td>\n",
              "      <td>New England Patriots</td>\n",
              "      <td>28</td>\n",
              "      <td>Seattle Seahawks</td>\n",
              "      <td>24</td>\n",
              "      <td>Tom Brady</td>\n",
              "      <td>University of Phoenix Stadium</td>\n",
              "      <td>Glendale</td>\n",
              "      <td>Arizona</td>\n",
              "    </tr>\n",
              "  </tbody>\n",
              "</table>\n",
              "</div>"
            ],
            "text/plain": [
              "           Date            SB  ...          City    State\n",
              "3    Feb 5 2017       LI (51)  ...       Houston    Texas\n",
              "8    Feb 5 2012     XLVI (46)  ...  Indianapolis  Indiana\n",
              "41  Jan 21 1979     XIII (13)  ...         Miami  Florida\n",
              "16   Feb 1 2004  XXXVIII (38)  ...       Houston    Texas\n",
              "5    Feb 1 2015     XLIX (49)  ...      Glendale  Arizona\n",
              "\n",
              "[5 rows x 10 columns]"
            ]
          },
          "metadata": {
            "tags": []
          },
          "execution_count": 8
        }
      ]
    },
    {
      "cell_type": "code",
      "metadata": {
        "colab": {
          "base_uri": "https://localhost:8080/",
          "height": 306
        },
        "id": "JUTHRyynBOsm",
        "outputId": "6e856ced-ae4c-415d-e134-e8dd2393d44b"
      },
      "source": [
        "df_loser_under_10_sample = df_superbowl[df_superbowl['Loser Pts'] < 10].sample(10)\n",
        "display(df_loser_under_10_sample.head(5))"
      ],
      "execution_count": 9,
      "outputs": [
        {
          "output_type": "display_data",
          "data": {
            "text/html": [
              "<div>\n",
              "<style scoped>\n",
              "    .dataframe tbody tr th:only-of-type {\n",
              "        vertical-align: middle;\n",
              "    }\n",
              "\n",
              "    .dataframe tbody tr th {\n",
              "        vertical-align: top;\n",
              "    }\n",
              "\n",
              "    .dataframe thead th {\n",
              "        text-align: right;\n",
              "    }\n",
              "</style>\n",
              "<table border=\"1\" class=\"dataframe\">\n",
              "  <thead>\n",
              "    <tr style=\"text-align: right;\">\n",
              "      <th></th>\n",
              "      <th>Date</th>\n",
              "      <th>SB</th>\n",
              "      <th>Winner</th>\n",
              "      <th>Winner Pts</th>\n",
              "      <th>Loser</th>\n",
              "      <th>Loser Pts</th>\n",
              "      <th>MVP</th>\n",
              "      <th>Stadium</th>\n",
              "      <th>City</th>\n",
              "      <th>State</th>\n",
              "    </tr>\n",
              "  </thead>\n",
              "  <tbody>\n",
              "    <tr>\n",
              "      <th>19</th>\n",
              "      <td>Jan 28 2001</td>\n",
              "      <td>XXXV (35)</td>\n",
              "      <td>Baltimore Ravens</td>\n",
              "      <td>34</td>\n",
              "      <td>New York Giants</td>\n",
              "      <td>7</td>\n",
              "      <td>Ray Lewis+</td>\n",
              "      <td>Raymond James Stadium</td>\n",
              "      <td>Tampa</td>\n",
              "      <td>Florida</td>\n",
              "    </tr>\n",
              "    <tr>\n",
              "      <th>47</th>\n",
              "      <td>Jan 14 1973</td>\n",
              "      <td>VII (7)</td>\n",
              "      <td>Miami Dolphins</td>\n",
              "      <td>14</td>\n",
              "      <td>Washington Redskins</td>\n",
              "      <td>7</td>\n",
              "      <td>Jake Scott</td>\n",
              "      <td>Memorial Coliseum</td>\n",
              "      <td>Los Angeles</td>\n",
              "      <td>California</td>\n",
              "    </tr>\n",
              "    <tr>\n",
              "      <th>50</th>\n",
              "      <td>Jan 11 1970</td>\n",
              "      <td>IV (4)</td>\n",
              "      <td>Kansas City Chiefs</td>\n",
              "      <td>23</td>\n",
              "      <td>Minnesota Vikings</td>\n",
              "      <td>7</td>\n",
              "      <td>Len Dawson+</td>\n",
              "      <td>Tulane Stadium</td>\n",
              "      <td>New Orleans</td>\n",
              "      <td>Louisiana</td>\n",
              "    </tr>\n",
              "    <tr>\n",
              "      <th>1</th>\n",
              "      <td>Feb 3 2019</td>\n",
              "      <td>LIII (53)</td>\n",
              "      <td>New England Patriots</td>\n",
              "      <td>13</td>\n",
              "      <td>Los Angeles Rams</td>\n",
              "      <td>3</td>\n",
              "      <td>Julian Edelman</td>\n",
              "      <td>Mercedes-Benz Stadium</td>\n",
              "      <td>Atlanta</td>\n",
              "      <td>Georgia</td>\n",
              "    </tr>\n",
              "    <tr>\n",
              "      <th>36</th>\n",
              "      <td>Jan 22 1984</td>\n",
              "      <td>XVIII (18)</td>\n",
              "      <td>Los Angeles Raiders</td>\n",
              "      <td>38</td>\n",
              "      <td>Washington Redskins</td>\n",
              "      <td>9</td>\n",
              "      <td>Marcus Allen+</td>\n",
              "      <td>Tampa Stadium</td>\n",
              "      <td>Tampa</td>\n",
              "      <td>Florida</td>\n",
              "    </tr>\n",
              "  </tbody>\n",
              "</table>\n",
              "</div>"
            ],
            "text/plain": [
              "           Date          SB  ...         City       State\n",
              "19  Jan 28 2001   XXXV (35)  ...        Tampa     Florida\n",
              "47  Jan 14 1973     VII (7)  ...  Los Angeles  California\n",
              "50  Jan 11 1970      IV (4)  ...  New Orleans   Louisiana\n",
              "1    Feb 3 2019   LIII (53)  ...      Atlanta     Georgia\n",
              "36  Jan 22 1984  XVIII (18)  ...        Tampa     Florida\n",
              "\n",
              "[5 rows x 10 columns]"
            ]
          },
          "metadata": {
            "tags": []
          }
        }
      ]
    },
    {
      "cell_type": "code",
      "metadata": {
        "colab": {
          "base_uri": "https://localhost:8080/",
          "height": 731
        },
        "id": "GuLoqxQvEAmM",
        "outputId": "e095be5e-7d58-469d-f6b2-0ee78922c645"
      },
      "source": [
        "df_superbowl_by_winning_team = df_superbowl.groupby(\n",
        "    df_superbowl['Winner'],\n",
        "    as_index=False\n",
        ").size()\n",
        "\n",
        "df_superbowl_by_winning_team.rename(columns={\n",
        "    'Winner':'Team_Name',\n",
        "    'size': 'num_SB_wins'\n",
        "}, inplace=True)\n",
        "display(df_superbowl_by_winning_team)"
      ],
      "execution_count": 10,
      "outputs": [
        {
          "output_type": "display_data",
          "data": {
            "text/html": [
              "<div>\n",
              "<style scoped>\n",
              "    .dataframe tbody tr th:only-of-type {\n",
              "        vertical-align: middle;\n",
              "    }\n",
              "\n",
              "    .dataframe tbody tr th {\n",
              "        vertical-align: top;\n",
              "    }\n",
              "\n",
              "    .dataframe thead th {\n",
              "        text-align: right;\n",
              "    }\n",
              "</style>\n",
              "<table border=\"1\" class=\"dataframe\">\n",
              "  <thead>\n",
              "    <tr style=\"text-align: right;\">\n",
              "      <th></th>\n",
              "      <th>Team_Name</th>\n",
              "      <th>num_SB_wins</th>\n",
              "    </tr>\n",
              "  </thead>\n",
              "  <tbody>\n",
              "    <tr>\n",
              "      <th>0</th>\n",
              "      <td>Baltimore Colts</td>\n",
              "      <td>1</td>\n",
              "    </tr>\n",
              "    <tr>\n",
              "      <th>1</th>\n",
              "      <td>Baltimore Ravens</td>\n",
              "      <td>2</td>\n",
              "    </tr>\n",
              "    <tr>\n",
              "      <th>2</th>\n",
              "      <td>Chicago Bears</td>\n",
              "      <td>1</td>\n",
              "    </tr>\n",
              "    <tr>\n",
              "      <th>3</th>\n",
              "      <td>Dallas Cowboys</td>\n",
              "      <td>5</td>\n",
              "    </tr>\n",
              "    <tr>\n",
              "      <th>4</th>\n",
              "      <td>Denver Broncos</td>\n",
              "      <td>3</td>\n",
              "    </tr>\n",
              "    <tr>\n",
              "      <th>5</th>\n",
              "      <td>Green Bay Packers</td>\n",
              "      <td>4</td>\n",
              "    </tr>\n",
              "    <tr>\n",
              "      <th>6</th>\n",
              "      <td>Indianapolis Colts</td>\n",
              "      <td>1</td>\n",
              "    </tr>\n",
              "    <tr>\n",
              "      <th>7</th>\n",
              "      <td>Kansas City Chiefs</td>\n",
              "      <td>2</td>\n",
              "    </tr>\n",
              "    <tr>\n",
              "      <th>8</th>\n",
              "      <td>Los Angeles Raiders</td>\n",
              "      <td>1</td>\n",
              "    </tr>\n",
              "    <tr>\n",
              "      <th>9</th>\n",
              "      <td>Miami Dolphins</td>\n",
              "      <td>2</td>\n",
              "    </tr>\n",
              "    <tr>\n",
              "      <th>10</th>\n",
              "      <td>New England Patriots</td>\n",
              "      <td>6</td>\n",
              "    </tr>\n",
              "    <tr>\n",
              "      <th>11</th>\n",
              "      <td>New Orleans Saints</td>\n",
              "      <td>1</td>\n",
              "    </tr>\n",
              "    <tr>\n",
              "      <th>12</th>\n",
              "      <td>New York Giants</td>\n",
              "      <td>4</td>\n",
              "    </tr>\n",
              "    <tr>\n",
              "      <th>13</th>\n",
              "      <td>New York Jets</td>\n",
              "      <td>1</td>\n",
              "    </tr>\n",
              "    <tr>\n",
              "      <th>14</th>\n",
              "      <td>Oakland Raiders</td>\n",
              "      <td>2</td>\n",
              "    </tr>\n",
              "    <tr>\n",
              "      <th>15</th>\n",
              "      <td>Philadelphia Eagles</td>\n",
              "      <td>1</td>\n",
              "    </tr>\n",
              "    <tr>\n",
              "      <th>16</th>\n",
              "      <td>Pittsburgh Steelers</td>\n",
              "      <td>6</td>\n",
              "    </tr>\n",
              "    <tr>\n",
              "      <th>17</th>\n",
              "      <td>San Francisco 49ers</td>\n",
              "      <td>5</td>\n",
              "    </tr>\n",
              "    <tr>\n",
              "      <th>18</th>\n",
              "      <td>Seattle Seahawks</td>\n",
              "      <td>1</td>\n",
              "    </tr>\n",
              "    <tr>\n",
              "      <th>19</th>\n",
              "      <td>St. Louis Rams</td>\n",
              "      <td>1</td>\n",
              "    </tr>\n",
              "    <tr>\n",
              "      <th>20</th>\n",
              "      <td>Tampa Bay Buccaneers</td>\n",
              "      <td>1</td>\n",
              "    </tr>\n",
              "    <tr>\n",
              "      <th>21</th>\n",
              "      <td>Washington Redskins</td>\n",
              "      <td>3</td>\n",
              "    </tr>\n",
              "  </tbody>\n",
              "</table>\n",
              "</div>"
            ],
            "text/plain": [
              "               Team_Name  num_SB_wins\n",
              "0        Baltimore Colts            1\n",
              "1       Baltimore Ravens            2\n",
              "2          Chicago Bears            1\n",
              "3         Dallas Cowboys            5\n",
              "4         Denver Broncos            3\n",
              "5      Green Bay Packers            4\n",
              "6     Indianapolis Colts            1\n",
              "7     Kansas City Chiefs            2\n",
              "8    Los Angeles Raiders            1\n",
              "9         Miami Dolphins            2\n",
              "10  New England Patriots            6\n",
              "11    New Orleans Saints            1\n",
              "12       New York Giants            4\n",
              "13         New York Jets            1\n",
              "14       Oakland Raiders            2\n",
              "15   Philadelphia Eagles            1\n",
              "16   Pittsburgh Steelers            6\n",
              "17   San Francisco 49ers            5\n",
              "18      Seattle Seahawks            1\n",
              "19        St. Louis Rams            1\n",
              "20  Tampa Bay Buccaneers            1\n",
              "21   Washington Redskins            3"
            ]
          },
          "metadata": {
            "tags": []
          }
        }
      ]
    }
  ]
}